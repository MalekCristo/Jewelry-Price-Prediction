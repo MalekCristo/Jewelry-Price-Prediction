{
 "cells": [
  {
   "cell_type": "code",
   "execution_count": 1,
   "metadata": {
    "id": "mkOUs6qPLUJ_"
   },
   "outputs": [],
   "source": [
    "# Code to read csv file into colaboratory:\n",
    "!pip install -U -q PyDrive\n",
    "from pydrive.auth import GoogleAuth\n",
    "from pydrive.drive import GoogleDrive\n",
    "from google.colab import auth\n",
    "from oauth2client.client import GoogleCredentials"
   ]
  },
  {
   "cell_type": "code",
   "execution_count": 2,
   "metadata": {
    "id": "2-yUq-EULWVf"
   },
   "outputs": [],
   "source": [
    "\n",
    "auth.authenticate_user()\n",
    "gauth = GoogleAuth()\n",
    "gauth.credentials = GoogleCredentials.get_application_default()\n",
    "drive = GoogleDrive(gauth)"
   ]
  },
  {
   "cell_type": "code",
   "execution_count": 3,
   "metadata": {
    "id": "1TcQcJGeLZ8O"
   },
   "outputs": [],
   "source": [
    "#2.1 Get the file\n",
    "downloaded = drive.CreateFile({'id':'1xI07t0VvlIiK6gF-RcHYxFRoayg9U0WU'}) \n",
    "downloaded.GetContentFile('ready.csv') "
   ]
  },
  {
   "cell_type": "code",
   "execution_count": 1,
   "metadata": {
    "id": "dh93YR89LczS"
   },
   "outputs": [
    {
     "ename": "ModuleNotFoundError",
     "evalue": "No module named 'pydotplus'",
     "output_type": "error",
     "traceback": [
      "\u001b[1;31m---------------------------------------------------------------------------\u001b[0m",
      "\u001b[1;31mModuleNotFoundError\u001b[0m                       Traceback (most recent call last)",
      "\u001b[1;32m~\\AppData\\Local\\Temp\\ipykernel_7096\\335455294.py\u001b[0m in \u001b[0;36m<module>\u001b[1;34m\u001b[0m\n\u001b[0;32m     20\u001b[0m \u001b[1;32mfrom\u001b[0m \u001b[0msklearn\u001b[0m\u001b[1;33m.\u001b[0m\u001b[0mtree\u001b[0m \u001b[1;32mimport\u001b[0m \u001b[0mexport_graphviz\u001b[0m\u001b[1;33m\u001b[0m\u001b[1;33m\u001b[0m\u001b[0m\n\u001b[0;32m     21\u001b[0m \u001b[1;32mfrom\u001b[0m \u001b[0mIPython\u001b[0m\u001b[1;33m.\u001b[0m\u001b[0mdisplay\u001b[0m \u001b[1;32mimport\u001b[0m \u001b[0mImage\u001b[0m\u001b[1;33m\u001b[0m\u001b[1;33m\u001b[0m\u001b[0m\n\u001b[1;32m---> 22\u001b[1;33m \u001b[1;32mimport\u001b[0m \u001b[0mpydotplus\u001b[0m\u001b[1;33m\u001b[0m\u001b[1;33m\u001b[0m\u001b[0m\n\u001b[0m\u001b[0;32m     23\u001b[0m \u001b[1;32mfrom\u001b[0m \u001b[0msklearn\u001b[0m \u001b[1;32mimport\u001b[0m \u001b[0mmetrics\u001b[0m\u001b[1;33m\u001b[0m\u001b[1;33m\u001b[0m\u001b[0m\n",
      "\u001b[1;31mModuleNotFoundError\u001b[0m: No module named 'pydotplus'"
     ]
    }
   ],
   "source": [
    "#Libraries\n",
    "import pandas as pd\n",
    "import seaborn as sns\n",
    "import matplotlib.pyplot as plt\n",
    "from sklearn.model_selection import train_test_split\n",
    "import numpy as np\n",
    "from scipy.stats import chi2_contingency\n",
    "import seaborn as sns\n",
    "import matplotlib.pyplot as plt\n",
    "from sklearn.preprocessing import LabelEncoder, OneHotEncoder\n",
    "import warnings\n",
    "warnings.filterwarnings(\"ignore\")\n",
    "from sklearn.svm import SVC\n",
    "from sklearn.metrics import confusion_matrix\n",
    "np.random.seed(123)\n",
    "from matplotlib import pyplot as plt\n",
    "from sklearn import datasets\n",
    "from sklearn.tree import DecisionTreeClassifier \n",
    "from sklearn import tree\n",
    "from sklearn.tree import export_graphviz\n",
    "from IPython.display import Image  \n",
    "import pydotplus\n",
    "from sklearn import metrics\n"
   ]
  },
  {
   "cell_type": "code",
   "execution_count": 2,
   "metadata": {},
   "outputs": [
    {
     "data": {
      "text/html": [
       "<div>\n",
       "<style scoped>\n",
       "    .dataframe tbody tr th:only-of-type {\n",
       "        vertical-align: middle;\n",
       "    }\n",
       "\n",
       "    .dataframe tbody tr th {\n",
       "        vertical-align: top;\n",
       "    }\n",
       "\n",
       "    .dataframe thead th {\n",
       "        text-align: right;\n",
       "    }\n",
       "</style>\n",
       "<table border=\"1\" class=\"dataframe\">\n",
       "  <thead>\n",
       "    <tr style=\"text-align: right;\">\n",
       "      <th></th>\n",
       "      <th>article_article</th>\n",
       "      <th>article_name</th>\n",
       "      <th>article_Material</th>\n",
       "      <th>article_Material_color</th>\n",
       "      <th>article_primary_stone</th>\n",
       "      <th>article_karat</th>\n",
       "      <th>article_Style</th>\n",
       "      <th>article_weight</th>\n",
       "      <th>article_price</th>\n",
       "    </tr>\n",
       "  </thead>\n",
       "  <tbody>\n",
       "    <tr>\n",
       "      <th>0</th>\n",
       "      <td>NaN</td>\n",
       "      <td>30 mm Wide Hoop Earrings</td>\n",
       "      <td>Bronze</td>\n",
       "      <td>Yellow</td>\n",
       "      <td>No Stone</td>\n",
       "      <td>Measure 1 3/16 by 1/4 inches</td>\n",
       "      <td>3RGE1353/01</td>\n",
       "      <td>15.54 grams</td>\n",
       "      <td>$30</td>\n",
       "    </tr>\n",
       "    <tr>\n",
       "      <th>1</th>\n",
       "      <td>NaN</td>\n",
       "      <td>Oval Link Necklace</td>\n",
       "      <td>Bronze</td>\n",
       "      <td>Yellow</td>\n",
       "      <td>No Stone</td>\n",
       "      <td>Measures 18 inches in length</td>\n",
       "      <td>2RG15MA24/18</td>\n",
       "      <td>53.2 grams</td>\n",
       "      <td>$30</td>\n",
       "    </tr>\n",
       "    <tr>\n",
       "      <th>2</th>\n",
       "      <td>NaN</td>\n",
       "      <td>Cigar Band Ring</td>\n",
       "      <td>Bronze</td>\n",
       "      <td>Yellow</td>\n",
       "      <td>No Stone</td>\n",
       "      <td>18K Gold-Plated Bronze</td>\n",
       "      <td>601250104014</td>\n",
       "      <td>4RP1MR60/09</td>\n",
       "      <td>$35</td>\n",
       "    </tr>\n",
       "    <tr>\n",
       "      <th>3</th>\n",
       "      <td>NaN</td>\n",
       "      <td>Polished Link Ring</td>\n",
       "      <td>Bronze</td>\n",
       "      <td>Yellow</td>\n",
       "      <td>No Stone</td>\n",
       "      <td>18K Gold-Plated Bronze</td>\n",
       "      <td>601250104045</td>\n",
       "      <td>4RP1MR96/09</td>\n",
       "      <td>$35</td>\n",
       "    </tr>\n",
       "    <tr>\n",
       "      <th>4</th>\n",
       "      <td>NaN</td>\n",
       "      <td>Garibaldi Double Link Chain Necklace</td>\n",
       "      <td>Bronze</td>\n",
       "      <td>Yellow</td>\n",
       "      <td>No Stone</td>\n",
       "      <td>18-Inches in length</td>\n",
       "      <td>2RP1MGPA1/18</td>\n",
       "      <td>51.54 grams</td>\n",
       "      <td>$30</td>\n",
       "    </tr>\n",
       "    <tr>\n",
       "      <th>...</th>\n",
       "      <td>...</td>\n",
       "      <td>...</td>\n",
       "      <td>...</td>\n",
       "      <td>...</td>\n",
       "      <td>...</td>\n",
       "      <td>...</td>\n",
       "      <td>...</td>\n",
       "      <td>...</td>\n",
       "      <td>...</td>\n",
       "    </tr>\n",
       "    <tr>\n",
       "      <th>775</th>\n",
       "      <td>NaN</td>\n",
       "      <td>Pearl Pendant with Diamonds</td>\n",
       "      <td>Sterling Silver</td>\n",
       "      <td>White</td>\n",
       "      <td>Pearl</td>\n",
       "      <td>Crafted in Sterling Silver</td>\n",
       "      <td>4 ct</td>\n",
       "      <td>Created</td>\n",
       "      <td>$35</td>\n",
       "    </tr>\n",
       "    <tr>\n",
       "      <th>776</th>\n",
       "      <td>NaN</td>\n",
       "      <td>1/2 ct White Sapphire Open Heart Pendant</td>\n",
       "      <td>Sterling Silver</td>\n",
       "      <td>Rose</td>\n",
       "      <td>Sapphire</td>\n",
       "      <td>14K Rose Gold-Plated Sterling Silver</td>\n",
       "      <td>Pendants</td>\n",
       "      <td>Women's</td>\n",
       "      <td>$35</td>\n",
       "    </tr>\n",
       "    <tr>\n",
       "      <th>777</th>\n",
       "      <td>NaN</td>\n",
       "      <td>1/4 ct Diamond Bypass Ring</td>\n",
       "      <td>Sterling Silver</td>\n",
       "      <td>White</td>\n",
       "      <td>Diamond</td>\n",
       "      <td>I-J Color, I2-I3 Clarity</td>\n",
       "      <td>I-J</td>\n",
       "      <td>Not-Treated</td>\n",
       "      <td>$98</td>\n",
       "    </tr>\n",
       "    <tr>\n",
       "      <th>778</th>\n",
       "      <td>NaN</td>\n",
       "      <td>3 ct Peridot Stud Earrings</td>\n",
       "      <td>Silver and Gold</td>\n",
       "      <td>Two-Tone</td>\n",
       "      <td>Peridot</td>\n",
       "      <td>Measure 3/8 by 3/8 inches</td>\n",
       "      <td>Studs</td>\n",
       "      <td>Women's</td>\n",
       "      <td>$77</td>\n",
       "    </tr>\n",
       "    <tr>\n",
       "      <th>779</th>\n",
       "      <td>NaN</td>\n",
       "      <td>11 mm Pearl Bracelet</td>\n",
       "      <td>Sterling Silver</td>\n",
       "      <td>White</td>\n",
       "      <td>Pearl</td>\n",
       "      <td>Measures 8 Inches in Length</td>\n",
       "      <td>Beads</td>\n",
       "      <td>Women's</td>\n",
       "      <td>$42</td>\n",
       "    </tr>\n",
       "  </tbody>\n",
       "</table>\n",
       "<p>780 rows × 9 columns</p>\n",
       "</div>"
      ],
      "text/plain": [
       "     article_article                              article_name  \\\n",
       "0                NaN                  30 mm Wide Hoop Earrings   \n",
       "1                NaN                        Oval Link Necklace   \n",
       "2                NaN                           Cigar Band Ring   \n",
       "3                NaN                        Polished Link Ring   \n",
       "4                NaN      Garibaldi Double Link Chain Necklace   \n",
       "..               ...                                       ...   \n",
       "775              NaN               Pearl Pendant with Diamonds   \n",
       "776              NaN  1/2 ct White Sapphire Open Heart Pendant   \n",
       "777              NaN                1/4 ct Diamond Bypass Ring   \n",
       "778              NaN                3 ct Peridot Stud Earrings   \n",
       "779              NaN                      11 mm Pearl Bracelet   \n",
       "\n",
       "    article_Material article_Material_color article_primary_stone  \\\n",
       "0             Bronze                 Yellow              No Stone   \n",
       "1             Bronze                 Yellow              No Stone   \n",
       "2             Bronze                 Yellow              No Stone   \n",
       "3             Bronze                 Yellow              No Stone   \n",
       "4             Bronze                 Yellow              No Stone   \n",
       "..               ...                    ...                   ...   \n",
       "775  Sterling Silver                  White                 Pearl   \n",
       "776  Sterling Silver                   Rose              Sapphire   \n",
       "777  Sterling Silver                  White               Diamond   \n",
       "778  Silver and Gold               Two-Tone               Peridot   \n",
       "779  Sterling Silver                  White                 Pearl   \n",
       "\n",
       "                            article_karat article_Style article_weight  \\\n",
       "0            Measure 1 3/16 by 1/4 inches   3RGE1353/01    15.54 grams   \n",
       "1            Measures 18 inches in length  2RG15MA24/18     53.2 grams   \n",
       "2                  18K Gold-Plated Bronze  601250104014    4RP1MR60/09   \n",
       "3                  18K Gold-Plated Bronze  601250104045    4RP1MR96/09   \n",
       "4                     18-Inches in length  2RP1MGPA1/18    51.54 grams   \n",
       "..                                    ...           ...            ...   \n",
       "775            Crafted in Sterling Silver          4 ct        Created   \n",
       "776  14K Rose Gold-Plated Sterling Silver      Pendants        Women's   \n",
       "777              I-J Color, I2-I3 Clarity           I-J    Not-Treated   \n",
       "778             Measure 3/8 by 3/8 inches         Studs        Women's   \n",
       "779           Measures 8 Inches in Length         Beads        Women's   \n",
       "\n",
       "    article_price  \n",
       "0             $30  \n",
       "1             $30  \n",
       "2             $35  \n",
       "3             $35  \n",
       "4             $30  \n",
       "..            ...  \n",
       "775           $35  \n",
       "776           $35  \n",
       "777           $98  \n",
       "778           $77  \n",
       "779           $42  \n",
       "\n",
       "[780 rows x 9 columns]"
      ]
     },
     "execution_count": 2,
     "metadata": {},
     "output_type": "execute_result"
    }
   ],
   "source": [
    "x=pd.read_csv('final_data.csv')\n",
    "x"
   ]
  },
  {
   "cell_type": "markdown",
   "metadata": {
    "id": "H5085O3ILbMO"
   },
   "source": [
    "\n",
    "\n",
    "---\n",
    "\n",
    "# **Classification**\n",
    "\n",
    "\n",
    "\n",
    "---\n",
    "\n"
   ]
  },
  {
   "cell_type": "code",
   "execution_count": 5,
   "metadata": {
    "colab": {
     "base_uri": "https://localhost:8080/"
    },
    "id": "Zze6A269LJaL",
    "outputId": "16d90024-04df-4e6b-d633-fd811c9345cf"
   },
   "outputs": [
    {
     "data": {
      "text/plain": [
       "Index(['Unnamed: 0', 'Type', 'article_Material', 'article_Material_color',\n",
       "       'article_primary_stone', 'article_weight', 'price_range'],\n",
       "      dtype='object')"
      ]
     },
     "execution_count": 5,
     "metadata": {
      "tags": []
     },
     "output_type": "execute_result"
    }
   ],
   "source": [
    "# load dataset\n",
    "data = pd.read_csv(\"ready.csv\")\n",
    "data.columns"
   ]
  },
  {
   "cell_type": "code",
   "execution_count": 6,
   "metadata": {
    "id": "yWc0LEgNPVUZ"
   },
   "outputs": [],
   "source": [
    "\n",
    "\n",
    "#encoding categorical values to integer using LabelEncoder()\n",
    "\n",
    "inputs=data.drop( ['Unnamed: 0','article_Material_color','price_range'],axis=1) #Features set\n",
    "target=data.price_range #target set\n",
    "\n",
    "label_encoder = LabelEncoder()\n",
    "inputs.iloc[:,0] = label_encoder.fit_transform(inputs.iloc[:,0]).astype('int')\n",
    "inputs.iloc[:,1] = label_encoder.fit_transform(inputs.iloc[:,1]).astype('int')\n",
    "inputs.iloc[:,2] = label_encoder.fit_transform(inputs.iloc[:,2]).astype('int')\n",
    "inputs.iloc[:,3] = label_encoder.fit_transform(inputs.iloc[:,3]).astype('int')\n",
    "\n",
    "\n",
    "\n",
    "\n"
   ]
  },
  {
   "cell_type": "code",
   "execution_count": null,
   "metadata": {
    "id": "aIE60wDV2XRq"
   },
   "outputs": [],
   "source": [
    "inputs"
   ]
  },
  {
   "cell_type": "code",
   "execution_count": 9,
   "metadata": {
    "id": "grLWdKkt2CCJ"
   },
   "outputs": [],
   "source": [
    "#featre scaling because some methods require this step\n",
    "from sklearn.preprocessing import StandardScaler\n",
    "sc = StandardScaler()\n",
    "inputs = sc.fit_transform(inputs)\n"
   ]
  },
  {
   "cell_type": "code",
   "execution_count": 8,
   "metadata": {
    "colab": {
     "base_uri": "https://localhost:8080/"
    },
    "id": "QI--WXs52SP5",
    "outputId": "c3f2b604-2a09-4abc-f31e-5d98ebdbcbff"
   },
   "outputs": [
    {
     "data": {
      "text/plain": [
       "array([[-0.67467764, -1.47224137,  0.33884048,  1.42176343],\n",
       "       [ 0.15129814, -1.47224137,  0.33884048,  1.73274122],\n",
       "       [ 1.80324969, -1.47224137,  0.33884048,  0.51104277],\n",
       "       ...,\n",
       "       [ 1.80324969,  2.1048198 , -1.07775437,  0.51104277],\n",
       "       [-0.67467764,  0.91246608,  1.14832325,  0.51104277],\n",
       "       [-1.50065341,  2.1048198 ,  0.94595256,  0.51104277]])"
      ]
     },
     "execution_count": 8,
     "metadata": {
      "tags": []
     },
     "output_type": "execute_result"
    }
   ],
   "source": [
    "inputs"
   ]
  },
  {
   "cell_type": "code",
   "execution_count": 20,
   "metadata": {
    "id": "zBpXFQFQ2Gt4"
   },
   "outputs": [],
   "source": [
    "\n",
    "\n",
    "#Splitting data into train (80%) and test sets (20%)\n",
    "\n",
    "X_train, X_test, y_train, y_test = train_test_split(inputs, target, test_size=0.2, random_state=1) # 80% training and 20% test"
   ]
  },
  {
   "cell_type": "code",
   "execution_count": 21,
   "metadata": {
    "id": "TCMSBqVxb3Fy"
   },
   "outputs": [],
   "source": [
    "#Create a list with features selected based on the Backward Elimination \n",
    "feature_cols=['Type', 'article_Material','article_primary_stone', 'article_weight']\n"
   ]
  },
  {
   "cell_type": "code",
   "execution_count": 22,
   "metadata": {
    "id": "uSujgKZATK_z"
   },
   "outputs": [],
   "source": [
    "clf = DecisionTreeClassifier(criterion='entropy')\n",
    "clf = clf.fit(X_train,y_train)\n",
    "y_pred = clf.predict(X_test)\n",
    "\n"
   ]
  },
  {
   "cell_type": "code",
   "execution_count": 23,
   "metadata": {
    "colab": {
     "base_uri": "https://localhost:8080/"
    },
    "id": "TiRax8RWHSVJ",
    "outputId": "4bc06062-2a28-4f84-d061-dd62fc09c5f2"
   },
   "outputs": [
    {
     "name": "stdout",
     "output_type": "stream",
     "text": [
      "Classification Accuracy: 0.7702702702702703\n",
      "Classification Error: 0.22972972972972971\n",
      "Sensitivity: 0.7702702702702703\n",
      "Precision: 0.7813169739640328\n",
      "f1_score: 0.7646903263341619\n"
     ]
    }
   ],
   "source": [
    "#Classification Accuracy: Overall, how often is the classifier correct?\n",
    "\n",
    "print(\"Classification Accuracy:\",metrics.accuracy_score(y_test, y_pred))\n",
    "\n",
    "print(\"Classification Error:\",1 - metrics.accuracy_score(y_test, y_pred))\n",
    "\n",
    "#Sensitivity: When the actual value is positive, how often is the prediction correct?\n",
    "#Something we want to maximize\n",
    "#How \"sensitive\" is the classifier to detecting positive instances?\n",
    "#Also known as \"True Positive Rate\" or \"Recall\"\n",
    "\n",
    "print('Sensitivity:',metrics.recall_score(y_test, y_pred,average='weighted'))\n",
    "\n",
    "#Precision: When a positive value is predicted, how often is the prediction correct?\n",
    "#How \"precise\" is the classifier when predicting positive instances?\n",
    "print('Precision:',metrics.precision_score(y_test, y_pred,average='weighted'))\n",
    "print('f1_score:',metrics.f1_score(y_test, y_pred, zero_division=1,average='weighted'))"
   ]
  },
  {
   "cell_type": "code",
   "execution_count": 24,
   "metadata": {
    "colab": {
     "base_uri": "https://localhost:8080/"
    },
    "id": "eHHWLse8g_Il",
    "outputId": "f9afbb63-213d-45c9-c632-02a7e2084855"
   },
   "outputs": [
    {
     "name": "stdout",
     "output_type": "stream",
     "text": [
      "              precision    recall  f1-score   support\n",
      "\n",
      "      Range1       0.87      0.79      0.83        33\n",
      "      Range2       0.68      0.66      0.67        35\n",
      "      Range3       0.81      0.90      0.85        69\n",
      "      Range4       0.20      0.25      0.22         4\n",
      "      Range5       1.00      0.29      0.44         7\n",
      "\n",
      "    accuracy                           0.77       148\n",
      "   macro avg       0.71      0.58      0.60       148\n",
      "weighted avg       0.78      0.77      0.76       148\n",
      "\n"
     ]
    }
   ],
   "source": [
    "from sklearn.metrics import classification_report\n",
    "report = classification_report(y_test, y_pred)\n",
    "print(report)"
   ]
  },
  {
   "cell_type": "code",
   "execution_count": null,
   "metadata": {
    "colab": {
     "base_uri": "https://localhost:8080/"
    },
    "id": "0t1x93h0bfYH",
    "outputId": "9f6412b9-d802-48f1-90a8-0673537dc6b1"
   },
   "outputs": [
    {
     "data": {
      "text/plain": [
       "True"
      ]
     },
     "execution_count": 29,
     "metadata": {
      "tags": []
     },
     "output_type": "execute_result"
    }
   ],
   "source": [
    "#Plot the tree\n",
    "dot_data = StringIO()\n",
    "export_graphviz(clf, out_file=dot_data,  \n",
    "                filled=True, rounded=True,\n",
    "                special_characters=True, feature_names = feature_cols,class_names=target)\n",
    "graph = pydotplus.graph_from_dot_data(dot_data.getvalue())  \n",
    "graph.write_png('tree.png')"
   ]
  },
  {
   "cell_type": "code",
   "execution_count": 63,
   "metadata": {
    "colab": {
     "base_uri": "https://localhost:8080/"
    },
    "id": "q4PRfBfVUR6C",
    "outputId": "6e162cd1-0ad5-4294-8056-f349d19801e3"
   },
   "outputs": [
    {
     "name": "stdout",
     "output_type": "stream",
     "text": [
      "Accuracy of LDA classifier on training set: 0.57\n",
      "Accuracy of LDA classifier on test set: 0.51\n",
      "Accuracy: 0.5135135135135135\n"
     ]
    }
   ],
   "source": [
    "#LinearDiscriminantAnalysis\n",
    "from sklearn.discriminant_analysis import LinearDiscriminantAnalysis\n",
    "from sklearn.naive_bayes import GaussianNB as gnb\n",
    "lda = LinearDiscriminantAnalysis()\n",
    "lda.fit(X_train, y_train)\n",
    "print('Accuracy of LDA classifier on training set: {:.2f}'\n",
    "     .format(lda.score(X_train, y_train)))\n",
    "print('Accuracy of LDA classifier on test set: {:.2f}'\n",
    "     .format(lda.score(X_test, y_test)))\n",
    "y_pred2 = lda.predict(X_test)\n",
    "\n",
    "print(\"Accuracy:\",metrics.accuracy_score(y_test, y_pred2))"
   ]
  },
  {
   "cell_type": "code",
   "execution_count": 64,
   "metadata": {
    "colab": {
     "base_uri": "https://localhost:8080/"
    },
    "id": "e2zwk4KnVOH9",
    "outputId": "d5aa3c81-c36d-44c1-c165-56622e273080"
   },
   "outputs": [
    {
     "name": "stdout",
     "output_type": "stream",
     "text": [
      "Accuracy of Logistic regression classifier on training set: 0.57\n",
      "Accuracy of Logistic regression classifier on test set: 0.51\n",
      "Accuracy: 0.5067567567567568\n",
      "              precision    recall  f1-score   support\n",
      "\n",
      "      Range1       0.00      0.00      0.00        33\n",
      "      Range2       0.40      0.54      0.46        35\n",
      "      Range3       0.55      0.81      0.66        69\n",
      "      Range4       0.00      0.00      0.00         4\n",
      "      Range5       0.00      0.00      0.00         7\n",
      "\n",
      "    accuracy                           0.51       148\n",
      "   macro avg       0.19      0.27      0.22       148\n",
      "weighted avg       0.35      0.51      0.42       148\n",
      "\n"
     ]
    }
   ],
   "source": [
    "#LogisticRegression\n",
    "from sklearn.linear_model import LogisticRegression\n",
    "logreg = LogisticRegression()\n",
    "logreg.fit(X_train, y_train)\n",
    "\n",
    "#Show accuracy\n",
    "print('Accuracy of Logistic regression classifier on training set: {:.2f}'\n",
    "     .format(logreg.score(X_train, y_train)))\n",
    "print('Accuracy of Logistic regression classifier on test set: {:.2f}'\n",
    "     .format(logreg.score(X_test, y_test)))\n",
    "\n",
    "y_pred1 = logreg.predict(X_test)\n",
    "print(\"Accuracy:\",metrics.accuracy_score(y_test, y_pred1))\n",
    "\n",
    "#Print LogisticRegression report\n",
    "report = classification_report(y_test, y_pred1)\n",
    "print(report)"
   ]
  },
  {
   "cell_type": "code",
   "execution_count": 30,
   "metadata": {
    "colab": {
     "base_uri": "https://localhost:8080/"
    },
    "id": "C2AVpBZr7tbJ",
    "outputId": "445c1e0b-b50c-4b39-9c22-e091323f54fa"
   },
   "outputs": [
    {
     "name": "stdout",
     "output_type": "stream",
     "text": [
      "Accuracy: 0.527027027027027\n"
     ]
    }
   ],
   "source": [
    "# Support Vector Machine\n",
    "from sklearn.svm import SVC\n",
    "svm= SVC(kernel='linear', C=0.025, random_state=101)\n",
    "svm.fit(X_train,y_train)\n",
    "y_pred6=svm.predict(X_test)\n",
    "\n",
    "print(\"Accuracy:\",metrics.accuracy_score(y_test, y_pred6))\n"
   ]
  },
  {
   "cell_type": "markdown",
   "metadata": {
    "id": "Xg2AQZ1N2VMT"
   },
   "source": [
    "**RandomForestClassifier**"
   ]
  },
  {
   "cell_type": "code",
   "execution_count": 25,
   "metadata": {
    "id": "C2ECvQfWMa5w"
   },
   "outputs": [],
   "source": [
    " \n",
    "#RandomForestClassifier\n",
    "from sklearn.ensemble import RandomForestClassifier\n",
    "\n",
    "\n",
    "#Create a Gaussian Classifier\n",
    "clf2=RandomForestClassifier(n_estimators=100)\n",
    "\n",
    "#Train the model using the training sets y_pred=clf.predict(X_test)\n",
    "clf2.fit(X_train,y_train)\n",
    "\n",
    "y_pred5=clf2.predict(X_test)\n"
   ]
  },
  {
   "cell_type": "code",
   "execution_count": 26,
   "metadata": {
    "colab": {
     "base_uri": "https://localhost:8080/"
    },
    "id": "bruc7IU6xgZ3",
    "outputId": "6602ee40-754a-463b-a983-60db6fe92c4b"
   },
   "outputs": [
    {
     "name": "stdout",
     "output_type": "stream",
     "text": [
      "Accuracy: 0.7905405405405406\n",
      "Classification Error: 0.20945945945945943\n",
      "Sensitivity: 0.7905405405405406\n",
      "Precision: 0.8062351596834356\n",
      "f1_score: 0.7863246315672447\n"
     ]
    }
   ],
   "source": [
    "from sklearn import metrics\n",
    "# Model Accuracy, how often is the classifier correct?\n",
    "print(\"Accuracy:\",metrics.accuracy_score(y_test, y_pred5))\n",
    "\n",
    "#Classification Error: Overall, how often is the classifier incorrect?\n",
    "print(\"Classification Error:\",1 - metrics.accuracy_score(y_test, y_pred5))\n",
    "\n",
    "\n",
    "#Sensitivity: When the actual value is positive, how often is the prediction correct?\n",
    "#Something we want to maximize\n",
    "#How \"sensitive\" is the classifier to detecting positive instances?\n",
    "#Also known as \"True Positive Rate\" or \"Recall\"\n",
    "\n",
    "print('Sensitivity:',metrics.recall_score(y_test, y_pred5,average='weighted'))\n",
    "\n",
    "#Precision: When a positive value is predicted, how often is the prediction correct?\n",
    "#How \"precise\" is the classifier when predicting positive instances?\n",
    "print('Precision:',metrics.precision_score(y_test, y_pred5,average='weighted'))\n",
    "print('f1_score:',metrics.f1_score(y_test, y_pred5, zero_division=1,average='weighted'))"
   ]
  },
  {
   "cell_type": "code",
   "execution_count": 28,
   "metadata": {
    "colab": {
     "base_uri": "https://localhost:8080/"
    },
    "id": "mojNBMdHbgT7",
    "outputId": "431c5ffc-c0aa-4079-e2ca-d848f47545f6"
   },
   "outputs": [
    {
     "name": "stdout",
     "output_type": "stream",
     "text": [
      "              precision    recall  f1-score   support\n",
      "\n",
      "      Range1       0.90      0.79      0.84        33\n",
      "      Range2       0.73      0.69      0.71        35\n",
      "      Range3       0.82      0.93      0.87        69\n",
      "      Range4       0.17      0.25      0.20         4\n",
      "      Range5       1.00      0.29      0.44         7\n",
      "\n",
      "    accuracy                           0.79       148\n",
      "   macro avg       0.72      0.59      0.61       148\n",
      "weighted avg       0.81      0.79      0.79       148\n",
      "\n"
     ]
    }
   ],
   "source": [
    "#Print RandomForestClassifier report\n",
    "report = classification_report(y_test, y_pred5)\n",
    "print(report)"
   ]
  },
  {
   "cell_type": "code",
   "execution_count": null,
   "metadata": {
    "id": "VuHkjl5iKljM"
   },
   "outputs": [],
   "source": [
    "#Print Support Vector Machine Report\n",
    "report = classification_report(y_test, y_pred6)\n",
    "print(report)"
   ]
  },
  {
   "cell_type": "code",
   "execution_count": 29,
   "metadata": {
    "colab": {
     "base_uri": "https://localhost:8080/",
     "height": 413
    },
    "id": "l1jF0ulg601I",
    "outputId": "269f2b6f-e6d9-4196-cdee-fe2a9191d936"
   },
   "outputs": [
    {
     "name": "stdout",
     "output_type": "stream",
     "text": [
      "LR: 0.578872 (0.057688)\n",
      "LDA: 0.558504 (0.051449)\n",
      "KNN: 0.706400 (0.056270)\n",
      "CART: 0.709673 (0.062716)\n",
      "Rforest: 0.714757 (0.062916)\n",
      "NB: 0.235973 (0.050434)\n",
      "SVM: 0.663764 (0.056570)\n"
     ]
    },
    {
     "data": {
      "image/png": "[encoded data removed]",
      "text/plain": [
       "<Figure size 432x288 with 1 Axes>"
      ]
     },
     "metadata": {
      "needs_background": "light",
      "tags": []
     },
     "output_type": "display_data"
    }
   ],
   "source": [
    "\n",
    "# Compare Algorithms\n",
    "import pandas\n",
    "from sklearn.model_selection import KFold\n",
    "\n",
    "import matplotlib.pyplot as plt\n",
    "from sklearn import model_selection\n",
    "from sklearn.linear_model import LogisticRegression\n",
    "from sklearn.tree import DecisionTreeClassifier\n",
    "from sklearn.neighbors import KNeighborsClassifier\n",
    "from sklearn.discriminant_analysis import LinearDiscriminantAnalysis\n",
    "from sklearn.naive_bayes import GaussianNB\n",
    "from sklearn.svm import SVC\n",
    "\n",
    "\n",
    "# prepare models\n",
    "models = []\n",
    "models.append(('LR', LogisticRegression()))\n",
    "models.append(('LDA', LinearDiscriminantAnalysis()))\n",
    "models.append(('KNN', KNeighborsClassifier()))\n",
    "models.append(('CART', DecisionTreeClassifier()))\n",
    "models.append(('Rforest', RandomForestClassifier(n_estimators=100, criterion='entropy')))\n",
    "models.append(('NB', GaussianNB()))\n",
    "models.append(('SVM', SVC()))\n",
    "# evaluate each model in turn\n",
    "seed=8\n",
    "results = []\n",
    "names = []\n",
    "scoring = 'accuracy'\n",
    "for name, model in models:\n",
    "    kfold = model_selection.KFold(n_splits=10, random_state=seed)\n",
    "    cv_results = model_selection.cross_val_score(model, X_train, y_train, cv=kfold, scoring=scoring)\n",
    "    results.append(cv_results)\n",
    "    names.append(name)\n",
    "    msg = \"%s: %f (%f)\" % (name, cv_results.mean(), cv_results.std())\n",
    "    print(msg)\n",
    "\n",
    "# boxplot algorithm comparison\n",
    "fig = plt.figure()\n",
    "fig.suptitle('Algorithm Comparison')\n",
    "ax = fig.add_subplot(111)\n",
    "plt.boxplot(results)\n",
    "ax.set_xticklabels(names)\n",
    "plt.show()"
   ]
  }
 ],
 "metadata": {
  "colab": {
   "collapsed_sections": [],
   "name": "Classification.ipynb",
   "provenance": []
  },
  "kernelspec": {
   "display_name": "Python 3 (ipykernel)",
   "language": "python",
   "name": "python3"
  },
  "language_info": {
   "codemirror_mode": {
    "name": "ipython",
    "version": 3
   },
   "file_extension": ".py",
   "mimetype": "text/x-python",
   "name": "python",
   "nbconvert_exporter": "python",
   "pygments_lexer": "ipython3",
   "version": "3.9.13"
  }
 },
 "nbformat": 4,
 "nbformat_minor": 1
}
