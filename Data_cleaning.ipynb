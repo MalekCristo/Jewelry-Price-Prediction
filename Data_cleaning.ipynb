{
 "cells": [
  {
   "cell_type": "markdown",
   "metadata": {
    "id": "055nS7RBA4z1"
   },
   "source": [
    "\n",
    "# **Connect to google drive and load data**\n",
    "---\n",
    "\n"
   ]
  },
  {
   "cell_type": "code",
   "execution_count": 1,
   "metadata": {
    "id": "I4O1NB5uWfUn"
   },
   "outputs": [],
   "source": [
    "# Code to read csv file into colaboratory:\n",
    "!pip install -U -q PyDrive\n",
    "from pydrive.auth import GoogleAuth\n",
    "from pydrive.drive import GoogleDrive\n",
    "from google.colab import auth\n",
    "from oauth2client.client import GoogleCredentials"
   ]
  },
  {
   "cell_type": "code",
   "execution_count": 2,
   "metadata": {
    "id": "IrquXzCTXEkb"
   },
   "outputs": [],
   "source": [
    "auth.authenticate_user()\n",
    "gauth = GoogleAuth()\n",
    "gauth.credentials = GoogleCredentials.get_application_default()\n",
    "drive = GoogleDrive(gauth)"
   ]
  },
  {
   "cell_type": "code",
   "execution_count": 34,
   "metadata": {
    "id": "KY7-DsR0Y_kO"
   },
   "outputs": [],
   "source": [
    "#2.1 Get the file\n",
    "downloaded = drive.CreateFile({'id':'1obE87a8bwW20TPc0hrhe2XYjFrVfSqAO'}) # replace the id with id of file you want to access\n",
    "downloaded.GetContentFile('datax.csv') "
   ]
  },
  {
   "cell_type": "markdown",
   "metadata": {
    "id": "mx_83gkwBJFM"
   },
   "source": [
    "# **Import Libraries**\n",
    "\n",
    "---\n",
    "\n"
   ]
  },
  {
   "cell_type": "code",
   "execution_count": 35,
   "metadata": {
    "id": "vWIFigWQBO5q"
   },
   "outputs": [],
   "source": [
    "import pandas as pd\n",
    "import seaborn as sns\n",
    "import matplotlib.pyplot as plt\n",
    "from sklearn.model_selection import train_test_split\n",
    "import numpy as np\n",
    "from scipy.stats import chi2_contingency\n"
   ]
  },
  {
   "cell_type": "markdown",
   "metadata": {
    "id": "QsPmt51TBaiq"
   },
   "source": [
    "# **Data Cleaning**\n",
    "\n",
    "---\n"
   ]
  },
  {
   "cell_type": "code",
   "execution_count": 36,
   "metadata": {
    "id": "I6tr6PqVBhZf"
   },
   "outputs": [],
   "source": [
    "#remove chained_assignment errors\n",
    "pd.options.mode.chained_assignment = None\n",
    "df= pd.read_csv('datax.csv')"
   ]
  },
  {
   "cell_type": "markdown",
   "metadata": {
    "id": "n_VT3wFEdvlc"
   },
   "source": [
    "**Drop unwanted columns**"
   ]
  },
  {
   "cell_type": "code",
   "execution_count": 37,
   "metadata": {
    "id": "ArhhUZIhBlyW"
   },
   "outputs": [],
   "source": [
    "#Drop unwanted columns\n",
    "df.drop(['article_article','article_Style','article_karat'],inplace=True, axis=1)"
   ]
  },
  {
   "cell_type": "markdown",
   "metadata": {
    "id": "2OMlJu8QdrJm"
   },
   "source": [
    "**Create types**"
   ]
  },
  {
   "cell_type": "code",
   "execution_count": 38,
   "metadata": {
    "id": "CSvwnATzDcua"
   },
   "outputs": [],
   "source": [
    "#Create types\n",
    "df['Type']='Type'\n",
    "for i in range(0,780,1):\n",
    "  if 'Earrings' in df['article_name'][i]:\n",
    "     df.xs(i)['Type']= 'Earrings'\n",
    "  elif 'Hoops' in df['article_name'][i]:\n",
    "     df.xs(i)['Type']= 'Earrings'\n",
    "  elif 'Ring' in df['article_name'][i]:\n",
    "     df.xs(i)['Type']= 'Ring'\n",
    "  elif 'Necklace' in df['article_name'][i] :\n",
    "     df.xs(i)['Type']= 'Necklace'\n",
    "  elif 'Chain' in df['article_name'][i] :\n",
    "     df.xs(i)['Type']= 'Necklace'\n",
    "  elif 'Pendant' in df['article_name'][i]:\n",
    "     df.xs(i)['Type']= 'Pendant'\n",
    "  elif 'Bracelet' in df['article_name'][i]:\n",
    "     df.xs(i)['Type']= 'Bracelet'\n",
    "  else: df.xs(i)['Type']= None\n",
    "\n",
    "#Rearrange the columns \n",
    "df = df[['article_name', 'Type', 'article_Material', 'article_Material_color',\n",
    "       'article_primary_stone', 'article_weight', 'article_price']]\n"
   ]
  },
  {
   "cell_type": "markdown",
   "metadata": {
    "id": "C7_ggpmcdmnm"
   },
   "source": [
    "**Fixing missing values in weight feature by applying mean method**"
   ]
  },
  {
   "cell_type": "code",
   "execution_count": 39,
   "metadata": {
    "id": "dYVn4XpfDwVu"
   },
   "outputs": [],
   "source": [
    "#Fixing missing values in weight feature by applying mean method\n",
    "for i in range(0,780,1):\n",
    "  if 'grams' in df['article_weight'][i]:\n",
    "     df.xs(i)['article_weight'] = df['article_weight'][i].replace(\"grams\", \"\")\n",
    "     \n",
    "  else: \n",
    "     df.xs(i)['article_weight'] = None\n",
    "df['article_weight']=df['article_weight'].astype(float)\n",
    "df['article_weight'].fillna((df['article_weight'].mean()), inplace=True)\n",
    "\n"
   ]
  },
  {
   "cell_type": "code",
   "execution_count": 17,
   "metadata": {
    "colab": {
     "base_uri": "https://localhost:8080/"
    },
    "id": "4gKUzNtC3VPr",
    "outputId": "470b4696-d040-454b-eb02-7f1f313a7965"
   },
   "outputs": [
    {
     "name": "stdout",
     "output_type": "stream",
     "text": [
      "0      15.540000\n",
      "1      53.200000\n",
      "2       5.053651\n",
      "3       5.053651\n",
      "4      51.540000\n",
      "         ...    \n",
      "775     5.053651\n",
      "776     5.053651\n",
      "777     5.053651\n",
      "778     5.053651\n",
      "779     5.053651\n",
      "Name: article_weight, Length: 780, dtype: float64\n"
     ]
    }
   ],
   "source": [
    "print(df['article_weight'])"
   ]
  },
  {
   "cell_type": "markdown",
   "metadata": {
    "id": "1CrIo5Lydib5"
   },
   "source": [
    "**Fixing missing values in price by applying mean method**"
   ]
  },
  {
   "cell_type": "code",
   "execution_count": 40,
   "metadata": {
    "id": "KRBOiyX8lMLv"
   },
   "outputs": [],
   "source": [
    "#Fixing missing values in price by applying mean method\n",
    "for i in range(0,780,1):\n",
    "  #remove $ sign\n",
    "  if '$' in df['article_price'][i]:\n",
    "      df.loc[i, 'article_price']= df['article_price'][i][1:]\n",
    "      #remove , in order to turn values into float\n",
    "      if ',' in  df['article_price'][i]:\n",
    "        df.loc[i, 'article_price']= df['article_price'][i].replace(',','')\n",
    "      \n",
    "  else:\n",
    "      df.xs(i)['article_price'] = None\n",
    "\n",
    "df['article_price']=df['article_price'].astype(float)\n",
    "df['article_price'].fillna((df['article_price'].mean()), inplace=True)\n"
   ]
  },
  {
   "cell_type": "code",
   "execution_count": null,
   "metadata": {
    "id": "bcZ6xrcCD6QD"
   },
   "outputs": [],
   "source": [
    "print(df.head(100))"
   ]
  },
  {
   "cell_type": "code",
   "execution_count": 41,
   "metadata": {
    "colab": {
     "base_uri": "https://localhost:8080/"
    },
    "id": "8UrLnDh3-rPd",
    "outputId": "5b71eb76-e91c-4c4e-ae1e-9cd8fc11dd3a"
   },
   "outputs": [
    {
     "data": {
      "text/plain": [
       "Index(['article_name', 'Type', 'article_Material', 'article_Material_color',\n",
       "       'article_primary_stone', 'article_weight', 'article_price'],\n",
       "      dtype='object')"
      ]
     },
     "execution_count": 41,
     "metadata": {
      "tags": []
     },
     "output_type": "execute_result"
    }
   ],
   "source": [
    "df.columns"
   ]
  },
  {
   "cell_type": "code",
   "execution_count": 47,
   "metadata": {
    "id": "USdgWFh1-SRV"
   },
   "outputs": [],
   "source": [
    "x=df.article_weight\n"
   ]
  },
  {
   "cell_type": "markdown",
   "metadata": {
    "id": "uGfkPek7bxv5"
   },
   "source": [
    "**Remove null values not fixed**"
   ]
  },
  {
   "cell_type": "code",
   "execution_count": null,
   "metadata": {
    "colab": {
     "base_uri": "https://localhost:8080/"
    },
    "id": "72yu5_nCb4Vk",
    "outputId": "c656273f-ada1-4493-f4d8-7c860d61f378"
   },
   "outputs": [
    {
     "name": "stdout",
     "output_type": "stream",
     "text": [
      "                                 article_name  ... article_price\n",
      "0                    30 mm Wide Hoop Earrings  ...          30.0\n",
      "1                          Oval Link Necklace  ...          30.0\n",
      "2                             Cigar Band Ring  ...          35.0\n",
      "3                          Polished Link Ring  ...          35.0\n",
      "4        Garibaldi Double Link Chain Necklace  ...          30.0\n",
      "..                                        ...  ...           ...\n",
      "775               Pearl Pendant with Diamonds  ...          35.0\n",
      "776  1/2 ct White Sapphire Open Heart Pendant  ...          35.0\n",
      "777                1/4 ct Diamond Bypass Ring  ...          98.0\n",
      "778                3 ct Peridot Stud Earrings  ...          77.0\n",
      "779                      11 mm Pearl Bracelet  ...          42.0\n",
      "\n",
      "[746 rows x 7 columns]\n"
     ]
    }
   ],
   "source": [
    "df = df.dropna(how='any',axis=0) \n",
    "print(df)"
   ]
  },
  {
   "cell_type": "markdown",
   "metadata": {
    "id": "exnOocUr_wOn"
   },
   "source": [
    "# **Visualizations**\n",
    "\n",
    "\n",
    "\n",
    "---\n",
    "\n"
   ]
  },
  {
   "cell_type": "markdown",
   "metadata": {
    "id": "OgopV7jrAtgh"
   },
   "source": [
    "**Boxplots**\n",
    "\n",
    "\n"
   ]
  },
  {
   "cell_type": "code",
   "execution_count": null,
   "metadata": {
    "colab": {
     "base_uri": "https://localhost:8080/",
     "height": 297
    },
    "id": "n7ZVAQNY_aZv",
    "outputId": "92c975d1-a2cd-4d78-b92c-ab268a50b0fc"
   },
   "outputs": [
    {
     "data": {
      "text/plain": [
       "<matplotlib.axes._subplots.AxesSubplot at 0x7f20fe101710>"
      ]
     },
     "execution_count": 37,
     "metadata": {
      "tags": []
     },
     "output_type": "execute_result"
    },
    {
     "data": {
      "image/png": "[encoded data removed]",
      "text/plain": [
       "<Figure size 432x288 with 1 Axes>"
      ]
     },
     "metadata": {
      "needs_background": "light",
      "tags": []
     },
     "output_type": "display_data"
    }
   ],
   "source": [
    "#Visualizing outliers using boxplot\n",
    "sns.boxplot(x=df['article_price'])\n",
    " "
   ]
  },
  {
   "cell_type": "code",
   "execution_count": null,
   "metadata": {
    "colab": {
     "base_uri": "https://localhost:8080/",
     "height": 297
    },
    "id": "VaiZIrnvA8Ji",
    "outputId": "5e0a1c5e-e91a-47dc-9f48-9969cc210f52"
   },
   "outputs": [
    {
     "data": {
      "text/plain": [
       "<matplotlib.axes._subplots.AxesSubplot at 0x7f20fe075ad0>"
      ]
     },
     "execution_count": 38,
     "metadata": {
      "tags": []
     },
     "output_type": "execute_result"
    },
    {
     "data": {
      "image/png": "[encoded data removed]",
      "text/plain": [
       "<Figure size 432x288 with 1 Axes>"
      ]
     },
     "metadata": {
      "needs_background": "light",
      "tags": []
     },
     "output_type": "display_data"
    }
   ],
   "source": [
    "#Visualizing outliers using boxplot\n",
    "#Material effect\n",
    "sns.boxplot(y=df['article_Material'],x=df['article_price'])"
   ]
  },
  {
   "cell_type": "code",
   "execution_count": null,
   "metadata": {
    "colab": {
     "base_uri": "https://localhost:8080/",
     "height": 297
    },
    "id": "m-XIcp20Cet9",
    "outputId": "654813cd-3ead-467e-b629-aeaf436864ae"
   },
   "outputs": [
    {
     "data": {
      "text/plain": [
       "<matplotlib.axes._subplots.AxesSubplot at 0x7f20fdfbe450>"
      ]
     },
     "execution_count": 39,
     "metadata": {
      "tags": []
     },
     "output_type": "execute_result"
    },
    {
     "data": {
      "image/png": "[encoded data removed]",
      "text/plain": [
       "<Figure size 432x288 with 1 Axes>"
      ]
     },
     "metadata": {
      "needs_background": "light",
      "tags": []
     },
     "output_type": "display_data"
    }
   ],
   "source": [
    "#Visualizing outliers using boxplot\n",
    "#Type effect\n",
    "sns.boxplot(y=df['Type'],x=df['article_price'])"
   ]
  },
  {
   "cell_type": "code",
   "execution_count": null,
   "metadata": {
    "id": "fg0ubaV0BkKh"
   },
   "outputs": [],
   "source": [
    "#Material effect\n",
    "fig, ax = plt.subplots(figsize=(15,8))\n",
    "ax.scatter(df['article_Material'], df['article_price'],color='red')\n",
    "ax.set_xlabel('Article Material')\n",
    "ax.set_ylabel('Price per $')\n",
    "plt.show()\n"
   ]
  },
  {
   "cell_type": "code",
   "execution_count": null,
   "metadata": {
    "id": "7A-SaFYvB2Tv"
   },
   "outputs": [],
   "source": [
    "#Material_color effect\n",
    "fig, ax = plt.subplots(figsize=(15,8))\n",
    "ax.scatter(df['article_Material_color'], df['article_price'],color='green')\n",
    "ax.set_xlabel('Article Material Color')\n",
    "ax.set_ylabel('Price per $')\n",
    "plt.show()"
   ]
  },
  {
   "cell_type": "code",
   "execution_count": null,
   "metadata": {
    "id": "J5JVKl1cB8xN"
   },
   "outputs": [],
   "source": [
    "#Type effect\n",
    "fig, ax = plt.subplots(figsize=(17,8))\n",
    "ax.scatter(df['Type'], df['article_price'],color='lightblue')\n",
    "ax.set_xlabel('Article Material')\n",
    "ax.set_ylabel('Price per $')\n",
    "plt.show()"
   ]
  },
  {
   "cell_type": "markdown",
   "metadata": {
    "id": "xB6wWB0xE9p8"
   },
   "source": [
    "**Z-score analysis and remove outliers**\n",
    "\n",
    "\n",
    "\n"
   ]
  },
  {
   "cell_type": "code",
   "execution_count": null,
   "metadata": {
    "colab": {
     "base_uri": "https://localhost:8080/"
    },
    "id": "pSlgGoa2EGOA",
    "outputId": "00c6f8dd-c33d-48e4-ea33-e5f31cc69c74"
   },
   "outputs": [
    {
     "name": "stdout",
     "output_type": "stream",
     "text": [
      "Mean of prices : 300.2131367292225\n",
      "STD Deviation of prices : 438.13774370028\n",
      "Outliers: [2000.0, 3500.0, 3600.0, 1700.0, 4000.0, 7000.0, 2000.0, 2100.0, 3000.0]\n",
      "upper =  1615.5082285338297\n",
      "lower = -1015.0819550753847\n"
     ]
    }
   ],
   "source": [
    "#Z-score analysis to show outliers\n",
    "mean = np.mean(df['article_price']) \n",
    "std = np.std(df['article_price']) \n",
    "\n",
    "print('Mean of prices :', mean) \n",
    "print('STD Deviation of prices :', std)\n",
    "\n",
    "threshold = 3\n",
    "outlier = [] \n",
    "#Find outliers\n",
    "for i in df['article_price']: \n",
    "    z = (i-mean)/std \n",
    "    if z > threshold: \n",
    "        outlier.append(i) \n",
    "print('Outliers:', outlier)  # show outliers\n",
    "\n",
    "#Remove outliers to not disturb results\n",
    "upper = df.article_price.mean() + 3*df.article_price.std()\n",
    "lower = df.article_price.mean() -3*df.article_price.std()\n",
    "print('upper = ' , upper)\n",
    "print('lower =' , lower)\n",
    "new_df= df[(df.article_price<upper) & (df.article_price>lower)]\n",
    "new_df\n",
    "\n",
    "new_df.to_csv('Data_without_outliers.csv')\n",
    "\n",
    "\n"
   ]
  },
  {
   "cell_type": "markdown",
   "metadata": {
    "id": "Ts7xFQbrXS9M"
   },
   "source": [
    "**Create Price Ranges**"
   ]
  },
  {
   "cell_type": "code",
   "execution_count": null,
   "metadata": {
    "id": "CXdvmhePXZpg"
   },
   "outputs": [],
   "source": [
    "#price ranges\n",
    "df2=pd.read_csv('Data_without_outliers.csv')\n",
    "df2['price_range']='range'\n",
    "\n",
    "df2\n",
    "for i in range(0,737,1):\n",
    "    if int(df2['article_price'][i]) in range(0,75):\n",
    "     df2.loc[i, 'price_range']= 'Range1'\n",
    "    elif int(df2['article_price'][i]) in range(75,200):\n",
    "     df2.loc[i, 'price_range']= 'Range2'\n",
    "    elif int(df2['article_price'][i]) in range(200,700):\n",
    "     df2.loc[i, 'price_range']= 'Range3'\n",
    "    elif int(df2['article_price'][i]) in range(700,1000):\n",
    "     df2.loc[i, 'price_range']= 'Range4'\n",
    "    elif int(df2['article_price'][i]) in range(1000,5000):\n",
    "      df2.loc[i, 'price_range']= 'Range5'\n",
    "df2\n"
   ]
  },
  {
   "cell_type": "code",
   "execution_count": null,
   "metadata": {
    "id": "TNePqr5dmEla"
   },
   "outputs": [],
   "source": [
    "#Rearrange \n",
    "df2= df2[['Type', 'article_Material', 'article_Material_color',\n",
    "       'article_primary_stone', 'article_weight', 'price_range']]\n",
    "df2.to_csv('ready.csv')\n"
   ]
  },
  {
   "cell_type": "markdown",
   "metadata": {
    "id": "1xK0YX83SEWc"
   },
   "source": [
    "# **Feature Selection**"
   ]
  },
  {
   "cell_type": "markdown",
   "metadata": {
    "id": "5uT1Vecrpv4a"
   },
   "source": [
    "\n",
    "\n",
    "> **Univariate analysis**\n",
    "\n",
    "\n",
    "> Chi2 test to know which features are significant\n",
    "\n",
    "\n"
   ]
  },
  {
   "cell_type": "code",
   "execution_count": null,
   "metadata": {
    "colab": {
     "base_uri": "https://localhost:8080/"
    },
    "id": "TiaOJeohSNV1",
    "outputId": "da3b579e-571a-4da2-b51e-125bb6bc8ae0"
   },
   "outputs": [
    {
     "name": "stdout",
     "output_type": "stream",
     "text": [
      "<class 'pandas.core.frame.DataFrame'>\n",
      "RangeIndex: 737 entries, 0 to 736\n",
      "Data columns (total 6 columns):\n",
      " #   Column                  Non-Null Count  Dtype  \n",
      "---  ------                  --------------  -----  \n",
      " 0   Type                    737 non-null    object \n",
      " 1   article_Material        737 non-null    object \n",
      " 2   article_Material_color  737 non-null    object \n",
      " 3   article_primary_stone   737 non-null    object \n",
      " 4   article_weight          737 non-null    float64\n",
      " 5   price_range             737 non-null    object \n",
      "dtypes: float64(1), object(5)\n",
      "memory usage: 34.7+ KB\n",
      "                   Column              Hypothesis\n",
      "0                    Type  Reject Null Hypothesis\n",
      "1        article_Material  Reject Null Hypothesis\n",
      "2  article_Material_color  Reject Null Hypothesis\n",
      "3   article_primary_stone  Reject Null Hypothesis\n"
     ]
    }
   ],
   "source": [
    "dff=df2\n",
    "#Getting all the categorical columns except the target\n",
    "categorical_columns = dff.select_dtypes(exclude = 'number').drop('price_range', axis = 1).columns\n",
    "dff.info()\n",
    "\n",
    "chi2_check = []\n",
    "\n",
    "for i in categorical_columns:\n",
    "    if chi2_contingency(pd.crosstab(dff['price_range'], dff[i]))[1] < 0.05:\n",
    "        chi2_check.append('Reject Null Hypothesis')\n",
    "    else:\n",
    "        chi2_check.append('Fail to Reject Null Hypothesis')\n",
    "res = pd.DataFrame(data = [categorical_columns, chi2_check] \n",
    "             ).T \n",
    "res.columns = ['Column', 'Hypothesis']\n",
    "print(res)"
   ]
  },
  {
   "cell_type": "markdown",
   "metadata": {
    "id": "7cj-yz12pe6H"
   },
   "source": [
    "\n",
    "\n",
    "> ***All features are informative*** \n",
    "\n",
    "\n",
    "\n",
    "\n",
    "\n",
    "\n"
   ]
  },
  {
   "cell_type": "markdown",
   "metadata": {
    "id": "53Y7dN8PK8L4"
   },
   "source": [
    "*Correlation between features*"
   ]
  },
  {
   "cell_type": "code",
   "execution_count": null,
   "metadata": {
    "colab": {
     "base_uri": "https://localhost:8080/",
     "height": 384
    },
    "id": "AXQ84PfdrdMJ",
    "outputId": "1e034e6e-1128-43a4-89ba-1a8ab53a431d"
   },
   "outputs": [
    {
     "data": {
      "text/plain": [
       "<matplotlib.axes._subplots.AxesSubplot at 0x7f0b9df9a790>"
      ]
     },
     "execution_count": 25,
     "metadata": {
      "tags": []
     },
     "output_type": "execute_result"
    },
    {
     "data": {
      "image/png": "[encoded data removed]",
      "text/plain": [
       "<Figure size 432x288 with 2 Axes>"
      ]
     },
     "metadata": {
      "needs_background": "light",
      "tags": []
     },
     "output_type": "display_data"
    }
   ],
   "source": [
    "import numpy as np\n",
    "import pandas as pd\n",
    "import seaborn as sns\n",
    "import matplotlib.pyplot as plt\n",
    "from sklearn.preprocessing import LabelEncoder, OneHotEncoder\n",
    "\n",
    "import warnings\n",
    "warnings.filterwarnings(\"ignore\")\n",
    "from sklearn.svm import SVC\n",
    "from sklearn.metrics import confusion_matrix\n",
    "np.random.seed(123)\n",
    "\n",
    "data = pd.read_csv('ready.csv')\n",
    "\n",
    "data = data.iloc[:,1:-1]\n",
    "label_encoder = LabelEncoder()\n",
    "\n",
    "data.iloc[:,0] = label_encoder.fit_transform(data.iloc[:,0]).astype('float64')\n",
    "data.iloc[:,1] = label_encoder.fit_transform(data.iloc[:,1]).astype('float64')\n",
    "data.iloc[:,2] = label_encoder.fit_transform(data.iloc[:,2]).astype('float64')\n",
    "data.iloc[:,3] = label_encoder.fit_transform(data.iloc[:,3]).astype('float64')\n",
    "\n",
    "\n",
    "\n",
    "corr = data.corr()\n",
    "sns.heatmap(corr)\n"
   ]
  },
  {
   "cell_type": "markdown",
   "metadata": {},
   "source": [
    "No correlation between features appear to exceed 0.2. "
   ]
  },
  {
   "cell_type": "code",
   "execution_count": null,
   "metadata": {
    "colab": {
     "base_uri": "https://localhost:8080/",
     "height": 419
    },
    "id": "69vsf2Qkgvo1",
    "outputId": "bc351a27-6d74-4836-f0e7-64d354e1113c"
   },
   "outputs": [
    {
     "data": {
      "text/html": [
       "<div>\n",
       "<style scoped>\n",
       "    .dataframe tbody tr th:only-of-type {\n",
       "        vertical-align: middle;\n",
       "    }\n",
       "\n",
       "    .dataframe tbody tr th {\n",
       "        vertical-align: top;\n",
       "    }\n",
       "\n",
       "    .dataframe thead th {\n",
       "        text-align: right;\n",
       "    }\n",
       "</style>\n",
       "<table border=\"1\" class=\"dataframe\">\n",
       "  <thead>\n",
       "    <tr style=\"text-align: right;\">\n",
       "      <th></th>\n",
       "      <th>Type</th>\n",
       "      <th>article_Material</th>\n",
       "      <th>article_Material_color</th>\n",
       "      <th>article_primary_stone</th>\n",
       "      <th>article_weight</th>\n",
       "    </tr>\n",
       "  </thead>\n",
       "  <tbody>\n",
       "    <tr>\n",
       "      <th>0</th>\n",
       "      <td>1.0</td>\n",
       "      <td>1.0</td>\n",
       "      <td>5.0</td>\n",
       "      <td>14.0</td>\n",
       "      <td>15.540000</td>\n",
       "    </tr>\n",
       "    <tr>\n",
       "      <th>1</th>\n",
       "      <td>2.0</td>\n",
       "      <td>1.0</td>\n",
       "      <td>5.0</td>\n",
       "      <td>14.0</td>\n",
       "      <td>53.200000</td>\n",
       "    </tr>\n",
       "    <tr>\n",
       "      <th>2</th>\n",
       "      <td>4.0</td>\n",
       "      <td>1.0</td>\n",
       "      <td>5.0</td>\n",
       "      <td>14.0</td>\n",
       "      <td>5.053651</td>\n",
       "    </tr>\n",
       "    <tr>\n",
       "      <th>3</th>\n",
       "      <td>4.0</td>\n",
       "      <td>1.0</td>\n",
       "      <td>5.0</td>\n",
       "      <td>14.0</td>\n",
       "      <td>5.053651</td>\n",
       "    </tr>\n",
       "    <tr>\n",
       "      <th>4</th>\n",
       "      <td>2.0</td>\n",
       "      <td>1.0</td>\n",
       "      <td>5.0</td>\n",
       "      <td>14.0</td>\n",
       "      <td>51.540000</td>\n",
       "    </tr>\n",
       "    <tr>\n",
       "      <th>...</th>\n",
       "      <td>...</td>\n",
       "      <td>...</td>\n",
       "      <td>...</td>\n",
       "      <td>...</td>\n",
       "      <td>...</td>\n",
       "    </tr>\n",
       "    <tr>\n",
       "      <th>732</th>\n",
       "      <td>3.0</td>\n",
       "      <td>4.0</td>\n",
       "      <td>4.0</td>\n",
       "      <td>17.0</td>\n",
       "      <td>5.053651</td>\n",
       "    </tr>\n",
       "    <tr>\n",
       "      <th>733</th>\n",
       "      <td>3.0</td>\n",
       "      <td>4.0</td>\n",
       "      <td>1.0</td>\n",
       "      <td>23.0</td>\n",
       "      <td>5.053651</td>\n",
       "    </tr>\n",
       "    <tr>\n",
       "      <th>734</th>\n",
       "      <td>4.0</td>\n",
       "      <td>4.0</td>\n",
       "      <td>4.0</td>\n",
       "      <td>7.0</td>\n",
       "      <td>5.053651</td>\n",
       "    </tr>\n",
       "    <tr>\n",
       "      <th>735</th>\n",
       "      <td>1.0</td>\n",
       "      <td>3.0</td>\n",
       "      <td>3.0</td>\n",
       "      <td>18.0</td>\n",
       "      <td>5.053651</td>\n",
       "    </tr>\n",
       "    <tr>\n",
       "      <th>736</th>\n",
       "      <td>0.0</td>\n",
       "      <td>4.0</td>\n",
       "      <td>4.0</td>\n",
       "      <td>17.0</td>\n",
       "      <td>5.053651</td>\n",
       "    </tr>\n",
       "  </tbody>\n",
       "</table>\n",
       "<p>737 rows × 5 columns</p>\n",
       "</div>"
      ],
      "text/plain": [
       "     Type  article_Material  ...  article_primary_stone  article_weight\n",
       "0     1.0               1.0  ...                   14.0       15.540000\n",
       "1     2.0               1.0  ...                   14.0       53.200000\n",
       "2     4.0               1.0  ...                   14.0        5.053651\n",
       "3     4.0               1.0  ...                   14.0        5.053651\n",
       "4     2.0               1.0  ...                   14.0       51.540000\n",
       "..    ...               ...  ...                    ...             ...\n",
       "732   3.0               4.0  ...                   17.0        5.053651\n",
       "733   3.0               4.0  ...                   23.0        5.053651\n",
       "734   4.0               4.0  ...                    7.0        5.053651\n",
       "735   1.0               3.0  ...                   18.0        5.053651\n",
       "736   0.0               4.0  ...                   17.0        5.053651\n",
       "\n",
       "[737 rows x 5 columns]"
      ]
     },
     "execution_count": 35,
     "metadata": {
      "tags": []
     },
     "output_type": "execute_result"
    }
   ],
   "source": [
    "columns = np.full((corr.shape[0],), True, dtype=bool)\n",
    "for i in range(corr.shape[0]):\n",
    "    for j in range(i+1, corr.shape[0]):\n",
    "        if corr.iloc[i,j] >= 0.9:\n",
    "            if columns[j]:\n",
    "                columns[j] = False\n",
    "selected_columns = data.columns[columns]\n",
    "data = data[selected_columns]\n",
    "data"
   ]
  },
  {
   "cell_type": "markdown",
   "metadata": {
    "id": "IHhxAzXUUgfC"
   },
   "source": [
    "**#Backward Elimination**\n",
    "\n",
    "> In backward elimination, we start with the full model (including all the independent variables) and then remove the insignificant feature with the highest p-value(> significance level). This process repeats again and again until we have the final set of significant features.\n",
    "\n",
    "\n",
    "\n",
    "> \n",
    "\n",
    "\n",
    "1.   Choose a significance level (e.g. SL = 0.05 with a 95% confidence).\n",
    "2.   Fit a full model including all the features.\n",
    "3. Consider the feature with the highest p-value. If the p-value > significance level then go to Step 4, otherwise terminate the process.\n",
    "4. Remove the feature which is under consideration.\n",
    "5. Fit a model without this feature. Repeat the entire process from Step 3.\n",
    "\n",
    "\n",
    "\n",
    "\n",
    "\n",
    "\n"
   ]
  },
  {
   "cell_type": "code",
   "execution_count": null,
   "metadata": {
    "id": "04fMtyuCwVnT"
   },
   "outputs": [],
   "source": [
    "\n",
    "import statsmodels.regression.linear_model as sm\n",
    "def backwardElimination(x, Y, sl, columns):\n",
    "    numVars = len(x[0])\n",
    "    for i in range(0, numVars):\n",
    "        regressor_OLS = sm.OLS(endog=Y, exog=x).fit()\n",
    "        maxVar = max(regressor_OLS.pvalues).astype(float)\n",
    "        if maxVar > sl:\n",
    "            for j in range(0, numVars - i):\n",
    "                if (regressor_OLS.pvalues[j].astype(float) == maxVar):\n",
    "                    x = np.delete(x, j, 1)\n",
    "                    columns = np.delete(columns, j)\n",
    "                    \n",
    "    regressor_OLS.summary()\n",
    "    return x, columns\n",
    "SL = 0.05\n",
    "data_modeled, selected_columns = backwardElimination(data.iloc[:,1:].values, data.iloc[:,0].values, SL, selected_columns)\n"
   ]
  },
  {
   "cell_type": "code",
   "execution_count": null,
   "metadata": {
    "colab": {
     "base_uri": "https://localhost:8080/"
    },
    "id": "61hOUFOdy7To",
    "outputId": "2355fff8-bcde-41a6-ea9b-c4462652ccc8"
   },
   "outputs": [
    {
     "data": {
      "text/plain": [
       "Index(['Type', 'article_Material', 'article_primary_stone', 'article_weight'], dtype='object')"
      ]
     },
     "execution_count": 42,
     "metadata": {
      "tags": []
     },
     "output_type": "execute_result"
    }
   ],
   "source": [
    "selected_columns"
   ]
  },
  {
   "cell_type": "markdown",
   "metadata": {},
   "source": [
    "This method has eliminated the article_material_color"
   ]
  }
 ],
 "metadata": {
  "colab": {
   "collapsed_sections": [],
   "name": "Data_cleaning.ipynb",
   "provenance": []
  },
  "kernelspec": {
   "display_name": "Python 3 (ipykernel)",
   "language": "python",
   "name": "python3"
  },
  "language_info": {
   "codemirror_mode": {
    "name": "ipython",
    "version": 3
   },
   "file_extension": ".py",
   "mimetype": "text/x-python",
   "name": "python",
   "nbconvert_exporter": "python",
   "pygments_lexer": "ipython3",
   "version": "3.9.13"
  }
 },
 "nbformat": 4,
 "nbformat_minor": 1
}
